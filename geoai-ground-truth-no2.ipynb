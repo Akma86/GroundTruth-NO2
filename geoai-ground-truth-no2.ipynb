{
 "cells": [
  {
   "cell_type": "markdown",
   "metadata": {},
   "source": [
    "## Import Library and Load data"
   ]
  },
  {
   "cell_type": "code",
   "execution_count": 1,
   "metadata": {
    "execution": {
     "iopub.execute_input": "2024-11-10T05:25:32.084983Z",
     "iopub.status.busy": "2024-11-10T05:25:32.084121Z",
     "iopub.status.idle": "2024-11-10T05:25:35.762792Z",
     "shell.execute_reply": "2024-11-10T05:25:35.762003Z",
     "shell.execute_reply.started": "2024-11-10T05:25:32.084935Z"
    },
    "trusted": true
   },
   "outputs": [
    {
     "data": {
      "text/html": [
       "        <script type=\"text/javascript\">\n",
       "        window.PlotlyConfig = {MathJaxConfig: 'local'};\n",
       "        if (window.MathJax && window.MathJax.Hub && window.MathJax.Hub.Config) {window.MathJax.Hub.Config({SVG: {font: \"STIX-Web\"}});}\n",
       "        if (typeof require !== 'undefined') {\n",
       "        require.undef(\"plotly\");\n",
       "        requirejs.config({\n",
       "            paths: {\n",
       "                'plotly': ['https://cdn.plot.ly/plotly-2.32.0.min']\n",
       "            }\n",
       "        });\n",
       "        require(['plotly'], function(Plotly) {\n",
       "            window._Plotly = Plotly;\n",
       "        });\n",
       "        }\n",
       "        </script>\n",
       "        "
      ]
     },
     "metadata": {},
     "output_type": "display_data"
    }
   ],
   "source": [
    "#Modifikasi\n",
    "import warnings\n",
    "import zipfile\n",
    "import numpy as np\n",
    "import pandas as pd\n",
    "from pathlib import Path\n",
    "pd.set_option('display.max_columns', 100)\n",
    "\n",
    "#Visualisasi\n",
    "import seaborn as sns\n",
    "import matplotlib.pyplot as plt\n",
    "from plotly.offline import init_notebook_mode, iplot\n",
    "init_notebook_mode(connected=True)\n",
    "import plotly.graph_objs as go\n",
    "import plotly_express as px\n",
    "import plotly.subplots as sp\n",
    "from statsmodels.graphics.tsaplots import plot_acf\n",
    "from matplotlib import rcParams\n",
    "\n",
    "#Perhitungan\n",
    "import itertools\n",
    "from statsmodels.formula.api import ols\n",
    "import statsmodels.api as sm\n",
    "from geopy.geocoders import Nominatim\n",
    "from scipy import stats\n",
    "from statsmodels.tsa.seasonal import seasonal_decompose\n",
    "\n",
    "\n",
    "#Imputasi\n",
    "from sklearn.experimental import enable_iterative_imputer\n",
    "from sklearn.impute import SimpleImputer, KNNImputer, IterativeImputer\n",
    "from sklearn.ensemble import RandomForestRegressor\n",
    "from sklearn.linear_model import LinearRegression\n",
    "\n",
    "\n",
    "# Modeling\n",
    "from sklearn.model_selection import train_test_split,GridSearchCV,RandomizedSearchCV, GroupKFold,KFold, TimeSeriesSplit   \n",
    "from sklearn.metrics import classification_report, accuracy_score, roc_curve, auc,roc_auc_score, mean_squared_error\n",
    "from sklearn.preprocessing import LabelEncoder\n",
    "from sklearn.preprocessing import MinMaxScaler\n",
    "from sklearn.preprocessing import StandardScaler\n",
    "from sklearn.cluster import KMeans\n",
    "from sklearn.decomposition import PCA\n",
    "\n",
    "#Feature Selection\n",
    "from sklearn.feature_selection import SelectKBest\n",
    "from sklearn.feature_selection import chi2\n",
    "from mlxtend.feature_selection import SequentialFeatureSelector as SFS\n",
    "\n",
    "# Feature Importance\n",
    "from sklearn.ensemble import ExtraTreesClassifier"
   ]
  },
  {
   "cell_type": "code",
   "execution_count": 2,
   "metadata": {
    "_cell_guid": "b1076dfc-b9ad-4769-8c92-a6c4dae69d19",
    "_uuid": "8f2839f25d086af736a60e9eeb907d3b93b6e0e5",
    "execution": {
     "iopub.execute_input": "2024-11-10T05:25:36.156095Z",
     "iopub.status.busy": "2024-11-10T05:25:36.155218Z",
     "iopub.status.idle": "2024-11-10T05:25:36.531229Z",
     "shell.execute_reply": "2024-11-10T05:25:36.530217Z",
     "shell.execute_reply.started": "2024-11-10T05:25:36.156054Z"
    },
    "trusted": true
   },
   "outputs": [],
   "source": [
    "train = pd.read_csv('Train.csv')\n",
    "test = pd.read_csv('Test.csv')"
   ]
  },
  {
   "cell_type": "markdown",
   "metadata": {},
   "source": [
    "## Data Understanding (Train and Test)"
   ]
  },
  {
   "cell_type": "code",
   "execution_count": 3,
   "metadata": {
    "execution": {
     "iopub.execute_input": "2024-11-10T05:25:36.538993Z",
     "iopub.status.busy": "2024-11-10T05:25:36.538457Z",
     "iopub.status.idle": "2024-11-10T05:25:36.563751Z",
     "shell.execute_reply": "2024-11-10T05:25:36.562928Z",
     "shell.execute_reply.started": "2024-11-10T05:25:36.538958Z"
    },
    "trusted": true
   },
   "outputs": [
    {
     "data": {
      "application/vnd.microsoft.datawrangler.viewer.v0+json": {
       "columns": [
        {
         "name": "index",
         "rawType": "int64",
         "type": "integer"
        },
        {
         "name": "ID_Zindi",
         "rawType": "object",
         "type": "string"
        },
        {
         "name": "Date",
         "rawType": "object",
         "type": "string"
        },
        {
         "name": "ID",
         "rawType": "object",
         "type": "string"
        },
        {
         "name": "LAT",
         "rawType": "float64",
         "type": "float"
        },
        {
         "name": "LON",
         "rawType": "float64",
         "type": "float"
        },
        {
         "name": "Precipitation",
         "rawType": "float64",
         "type": "float"
        },
        {
         "name": "LST",
         "rawType": "float64",
         "type": "float"
        },
        {
         "name": "AAI",
         "rawType": "float64",
         "type": "float"
        },
        {
         "name": "CloudFraction",
         "rawType": "float64",
         "type": "float"
        },
        {
         "name": "NO2_strat",
         "rawType": "float64",
         "type": "float"
        },
        {
         "name": "NO2_total",
         "rawType": "float64",
         "type": "float"
        },
        {
         "name": "NO2_trop",
         "rawType": "float64",
         "type": "float"
        },
        {
         "name": "TropopausePressure",
         "rawType": "float64",
         "type": "float"
        },
        {
         "name": "GT_NO2",
         "rawType": "float64",
         "type": "float"
        }
       ],
       "conversionMethod": "pd.DataFrame",
       "ref": "e8378f65-fbbe-4b30-a928-9573f8a1dc48",
       "rows": [
        [
         "0",
         "ID_ENTGC7",
         "1/1/19",
         "PD01",
         "45.60158469",
         "11.90355081",
         "0.0",
         null,
         "0.230526514",
         "0.559116952",
         "2.38e-05",
         "0.000117",
         null,
         "14440.82126",
         "31.0"
        ],
        [
         "1",
         "ID_8JCCXC",
         "1/1/19",
         "PD04",
         "45.37100479",
         "11.84082978",
         "3.0473423",
         null,
         "-0.074006252",
         "0.869308591",
         "2.39e-05",
         "0.000127",
         null,
         "14441.79815",
         "42.0"
        ],
        [
         "2",
         "ID_V3136Z",
         "1/1/19",
         "RO01",
         "45.04582512",
         "12.06086934",
         "0.0",
         null,
         "0.024469809",
         "0.674160286",
         "2.4e-05",
         "8.62e-05",
         null,
         "14437.38294",
         "31.0"
        ],
        [
         "3",
         "ID_KRVZDJ",
         "1/1/19",
         "RO02",
         "45.10407489",
         "11.55324086",
         "1.200466871",
         null,
         "-0.010441862",
         "0.920053504",
         "2.41e-05",
         "0.000124",
         null,
         "14440.83831",
         "30.0"
        ],
        [
         "4",
         "ID_PR351A",
         "1/1/19",
         "RO03",
         "45.03875842",
         "11.79015164",
         "1.274563789",
         null,
         "-0.176178135",
         "0.747463614",
         "2.41e-05",
         "0.000116",
         null,
         "14438.79037",
         "58.0"
        ]
       ],
       "shape": {
        "columns": 14,
        "rows": 5
       }
      },
      "text/html": [
       "<div>\n",
       "<style scoped>\n",
       "    .dataframe tbody tr th:only-of-type {\n",
       "        vertical-align: middle;\n",
       "    }\n",
       "\n",
       "    .dataframe tbody tr th {\n",
       "        vertical-align: top;\n",
       "    }\n",
       "\n",
       "    .dataframe thead th {\n",
       "        text-align: right;\n",
       "    }\n",
       "</style>\n",
       "<table border=\"1\" class=\"dataframe\">\n",
       "  <thead>\n",
       "    <tr style=\"text-align: right;\">\n",
       "      <th></th>\n",
       "      <th>ID_Zindi</th>\n",
       "      <th>Date</th>\n",
       "      <th>ID</th>\n",
       "      <th>LAT</th>\n",
       "      <th>LON</th>\n",
       "      <th>Precipitation</th>\n",
       "      <th>LST</th>\n",
       "      <th>AAI</th>\n",
       "      <th>CloudFraction</th>\n",
       "      <th>NO2_strat</th>\n",
       "      <th>NO2_total</th>\n",
       "      <th>NO2_trop</th>\n",
       "      <th>TropopausePressure</th>\n",
       "      <th>GT_NO2</th>\n",
       "    </tr>\n",
       "  </thead>\n",
       "  <tbody>\n",
       "    <tr>\n",
       "      <th>0</th>\n",
       "      <td>ID_ENTGC7</td>\n",
       "      <td>1/1/19</td>\n",
       "      <td>PD01</td>\n",
       "      <td>45.601585</td>\n",
       "      <td>11.903551</td>\n",
       "      <td>0.000000</td>\n",
       "      <td>NaN</td>\n",
       "      <td>0.230527</td>\n",
       "      <td>0.559117</td>\n",
       "      <td>0.000024</td>\n",
       "      <td>0.000117</td>\n",
       "      <td>NaN</td>\n",
       "      <td>14440.82126</td>\n",
       "      <td>31.0</td>\n",
       "    </tr>\n",
       "    <tr>\n",
       "      <th>1</th>\n",
       "      <td>ID_8JCCXC</td>\n",
       "      <td>1/1/19</td>\n",
       "      <td>PD04</td>\n",
       "      <td>45.371005</td>\n",
       "      <td>11.840830</td>\n",
       "      <td>3.047342</td>\n",
       "      <td>NaN</td>\n",
       "      <td>-0.074006</td>\n",
       "      <td>0.869309</td>\n",
       "      <td>0.000024</td>\n",
       "      <td>0.000127</td>\n",
       "      <td>NaN</td>\n",
       "      <td>14441.79815</td>\n",
       "      <td>42.0</td>\n",
       "    </tr>\n",
       "    <tr>\n",
       "      <th>2</th>\n",
       "      <td>ID_V3136Z</td>\n",
       "      <td>1/1/19</td>\n",
       "      <td>RO01</td>\n",
       "      <td>45.045825</td>\n",
       "      <td>12.060869</td>\n",
       "      <td>0.000000</td>\n",
       "      <td>NaN</td>\n",
       "      <td>0.024470</td>\n",
       "      <td>0.674160</td>\n",
       "      <td>0.000024</td>\n",
       "      <td>0.000086</td>\n",
       "      <td>NaN</td>\n",
       "      <td>14437.38294</td>\n",
       "      <td>31.0</td>\n",
       "    </tr>\n",
       "    <tr>\n",
       "      <th>3</th>\n",
       "      <td>ID_KRVZDJ</td>\n",
       "      <td>1/1/19</td>\n",
       "      <td>RO02</td>\n",
       "      <td>45.104075</td>\n",
       "      <td>11.553241</td>\n",
       "      <td>1.200467</td>\n",
       "      <td>NaN</td>\n",
       "      <td>-0.010442</td>\n",
       "      <td>0.920054</td>\n",
       "      <td>0.000024</td>\n",
       "      <td>0.000124</td>\n",
       "      <td>NaN</td>\n",
       "      <td>14440.83831</td>\n",
       "      <td>30.0</td>\n",
       "    </tr>\n",
       "    <tr>\n",
       "      <th>4</th>\n",
       "      <td>ID_PR351A</td>\n",
       "      <td>1/1/19</td>\n",
       "      <td>RO03</td>\n",
       "      <td>45.038758</td>\n",
       "      <td>11.790152</td>\n",
       "      <td>1.274564</td>\n",
       "      <td>NaN</td>\n",
       "      <td>-0.176178</td>\n",
       "      <td>0.747464</td>\n",
       "      <td>0.000024</td>\n",
       "      <td>0.000116</td>\n",
       "      <td>NaN</td>\n",
       "      <td>14438.79037</td>\n",
       "      <td>58.0</td>\n",
       "    </tr>\n",
       "  </tbody>\n",
       "</table>\n",
       "</div>"
      ],
      "text/plain": [
       "    ID_Zindi    Date    ID        LAT        LON  Precipitation  LST  \\\n",
       "0  ID_ENTGC7  1/1/19  PD01  45.601585  11.903551       0.000000  NaN   \n",
       "1  ID_8JCCXC  1/1/19  PD04  45.371005  11.840830       3.047342  NaN   \n",
       "2  ID_V3136Z  1/1/19  RO01  45.045825  12.060869       0.000000  NaN   \n",
       "3  ID_KRVZDJ  1/1/19  RO02  45.104075  11.553241       1.200467  NaN   \n",
       "4  ID_PR351A  1/1/19  RO03  45.038758  11.790152       1.274564  NaN   \n",
       "\n",
       "        AAI  CloudFraction  NO2_strat  NO2_total  NO2_trop  \\\n",
       "0  0.230527       0.559117   0.000024   0.000117       NaN   \n",
       "1 -0.074006       0.869309   0.000024   0.000127       NaN   \n",
       "2  0.024470       0.674160   0.000024   0.000086       NaN   \n",
       "3 -0.010442       0.920054   0.000024   0.000124       NaN   \n",
       "4 -0.176178       0.747464   0.000024   0.000116       NaN   \n",
       "\n",
       "   TropopausePressure  GT_NO2  \n",
       "0         14440.82126    31.0  \n",
       "1         14441.79815    42.0  \n",
       "2         14437.38294    31.0  \n",
       "3         14440.83831    30.0  \n",
       "4         14438.79037    58.0  "
      ]
     },
     "execution_count": 3,
     "metadata": {},
     "output_type": "execute_result"
    }
   ],
   "source": [
    "train.head()"
   ]
  },
  {
   "cell_type": "code",
   "execution_count": 4,
   "metadata": {
    "execution": {
     "iopub.execute_input": "2024-11-10T05:25:36.941440Z",
     "iopub.status.busy": "2024-11-10T05:25:36.941125Z",
     "iopub.status.idle": "2024-11-10T05:25:36.993278Z",
     "shell.execute_reply": "2024-11-10T05:25:36.992309Z",
     "shell.execute_reply.started": "2024-11-10T05:25:36.941408Z"
    },
    "trusted": true
   },
   "outputs": [
    {
     "name": "stdout",
     "output_type": "stream",
     "text": [
      "<class 'pandas.core.frame.DataFrame'>\n",
      "RangeIndex: 86584 entries, 0 to 86583\n",
      "Data columns (total 14 columns):\n",
      " #   Column              Non-Null Count  Dtype  \n",
      "---  ------              --------------  -----  \n",
      " 0   ID_Zindi            86584 non-null  object \n",
      " 1   Date                86584 non-null  object \n",
      " 2   ID                  86584 non-null  object \n",
      " 3   LAT                 86584 non-null  float64\n",
      " 4   LON                 86584 non-null  float64\n",
      " 5   Precipitation       86584 non-null  float64\n",
      " 6   LST                 46798 non-null  float64\n",
      " 7   AAI                 73709 non-null  float64\n",
      " 8   CloudFraction       73709 non-null  float64\n",
      " 9   NO2_strat           73709 non-null  float64\n",
      " 10  NO2_total           73709 non-null  float64\n",
      " 11  NO2_trop            51111 non-null  float64\n",
      " 12  TropopausePressure  73709 non-null  float64\n",
      " 13  GT_NO2              82051 non-null  float64\n",
      "dtypes: float64(11), object(3)\n",
      "memory usage: 9.2+ MB\n"
     ]
    },
    {
     "data": {
      "text/plain": [
       "(None, (86584, 14))"
      ]
     },
     "execution_count": 4,
     "metadata": {},
     "output_type": "execute_result"
    }
   ],
   "source": [
    "train.info(),train.shape"
   ]
  },
  {
   "cell_type": "code",
   "execution_count": 5,
   "metadata": {
    "execution": {
     "iopub.execute_input": "2024-11-10T05:25:37.344314Z",
     "iopub.status.busy": "2024-11-10T05:25:37.343483Z",
     "iopub.status.idle": "2024-11-10T05:25:37.376084Z",
     "shell.execute_reply": "2024-11-10T05:25:37.375235Z",
     "shell.execute_reply.started": "2024-11-10T05:25:37.344276Z"
    },
    "trusted": true
   },
   "outputs": [
    {
     "data": {
      "text/plain": [
       "ID_Zindi                  0\n",
       "Date                      0\n",
       "ID                        0\n",
       "LAT                       0\n",
       "LON                       0\n",
       "Precipitation             0\n",
       "LST                   39786\n",
       "AAI                   12875\n",
       "CloudFraction         12875\n",
       "NO2_strat             12875\n",
       "NO2_total             12875\n",
       "NO2_trop              35473\n",
       "TropopausePressure    12875\n",
       "GT_NO2                 4533\n",
       "dtype: int64"
      ]
     },
     "execution_count": 5,
     "metadata": {},
     "output_type": "execute_result"
    }
   ],
   "source": [
    "train.isna().sum()"
   ]
  },
  {
   "cell_type": "markdown",
   "metadata": {},
   "source": [
    "## Data Cleaning"
   ]
  },
  {
   "cell_type": "code",
   "execution_count": 6,
   "metadata": {},
   "outputs": [
    {
     "name": "stderr",
     "output_type": "stream",
     "text": [
      "C:\\Users\\booma\\AppData\\Local\\Temp\\ipykernel_10044\\2488958140.py:1: UserWarning:\n",
      "\n",
      "Could not infer format, so each element will be parsed individually, falling back to `dateutil`. To ensure parsing is consistent and as-expected, please specify a format.\n",
      "\n"
     ]
    }
   ],
   "source": [
    "train['Date'] = pd.to_datetime(train['Date'], dayfirst=True, errors='coerce')\n",
    "\n",
    "Date = train.copy()\n",
    "Date['Date'] = pd.to_datetime(Date['Date'])\n",
    "\n",
    "\n",
    "# 3. Menetapkan kolom Date sebagai index\n",
    "train.set_index('Date', inplace=True)"
   ]
  },
  {
   "cell_type": "code",
   "execution_count": 7,
   "metadata": {},
   "outputs": [
    {
     "name": "stderr",
     "output_type": "stream",
     "text": [
      "C:\\Users\\booma\\AppData\\Local\\Temp\\ipykernel_10044\\1334361193.py:1: UserWarning:\n",
      "\n",
      "Could not infer format, so each element will be parsed individually, falling back to `dateutil`. To ensure parsing is consistent and as-expected, please specify a format.\n",
      "\n"
     ]
    }
   ],
   "source": [
    "test['Date'] = pd.to_datetime(test['Date'], dayfirst=True, errors='coerce')\n",
    "\n",
    "Date_test = test.copy()\n",
    "Date_test['Date'] = pd.to_datetime(Date['Date'])\n",
    "\n",
    "\n",
    "# 3. Menetapkan kolom Date sebagai index\n",
    "test.set_index('Date', inplace=True)"
   ]
  },
  {
   "cell_type": "markdown",
   "metadata": {},
   "source": [
    "1. Precipitation\n",
    "    - Description: Amount of precipitation (rainfall or equivalent) measured at the location.\n",
    "    - Type: Continuous (float64).\n",
    "    - Units: Likely millimeters (mm) or equivalent.\n",
    "    - Purpose: A critical feature for environmental and climate modeling.\n",
    "\n",
    "2. LST (Land Surface Temperature)\n",
    "    - Description: Measured temperature of the Earth's surface at the location.\n",
    "    - Type: Continuous (float64).\n",
    "    - Units: Likely degrees Celsius or Kelvin.\n",
    "    - Purpose: Used in studies of heat distribution, climate, or agriculture.\n",
    "\n",
    "3. AAI (Absorbing Aerosol Index)\n",
    "    - Description: Indicates the presence of aerosols (e.g., dust, smoke) in the atmosphere.\n",
    "    - Type: Continuous (float64).\n",
    "    - Range: Positive values indicate absorbing aerosols; negative or near-zero values may indicate clear conditions.\n",
    "    - Purpose: Relevant for air quality analysis and environmental studies.\n",
    "\n",
    "4. CloudFraction\n",
    "    - Description: Fractional coverage of clouds in the observed area.\n",
    "    - Type: Continuous (float64).\n",
    "    - Range: 0 (clear) to 1 (completely overcast).\n",
    "    - Purpose: Used in weather and climate modeling.\n",
    "\n",
    "5. NO2_strat (Stratospheric NO₂)\n",
    "    - Description: Concentration of nitrogen dioxide in the stratosphere.\n",
    "    - Type: Continuous (float64).\n",
    "    - Units: Likely micrograms per cubic meter (µg/m³).\n",
    "    - Purpose: Provides insights into atmospheric chemistry and pollution sources.\n",
    "\n",
    "6. NO2_total (Total NO₂)\n",
    "    - Description: Total nitrogen dioxide concentration in the atmosphere.\n",
    "    - Type: Continuous (float64).\n",
    "    - Purpose: Useful for assessing air pollution levels.\n",
    "\n",
    "7. NO2_trop (Tropospheric NO₂)\n",
    "    - Description: Concentration of nitrogen dioxide in the troposphere.\n",
    "    - Type: Continuous (float64).\n",
    "    - Purpose: Indicates near-surface pollution and human activity impact.\n",
    "\n",
    "8. TropopausePressure\n",
    "    - Description: Pressure at the tropopause (the boundary between the troposphere and stratosphere).\n",
    "    - Type: Continuous (float64).\n",
    "    - Units: Likely hectopascals (hPa).\n",
    "    - Purpose: Provides insights into atmospheric dynamics and weather.\n",
    "\n",
    "9. GT_NO2 (Ground Truth NO₂)\n",
    "    - Description: Ground-level concentration of nitrogen dioxide.\n",
    "    - Type: Continuous (float64).\n",
    "    - Purpose: Used as a benchmark or target value for validation and modeling.\n"
   ]
  },
  {
   "cell_type": "markdown",
   "metadata": {},
   "source": [
    "## Imputasi"
   ]
  },
  {
   "cell_type": "code",
   "execution_count": 8,
   "metadata": {},
   "outputs": [],
   "source": [
    "# df = train.copy()\n",
    "# df.drop(columns=['ID_Zindi','ID'],inplace=True)\n",
    "# test.drop(columns=['ID_Zindi','ID'],inplace=True)\n",
    "\n",
    "# def impute_missing_values(df, cols_to_impute, drop_cols=['LAT', 'LON'], n_estimators=100, random_state=42):\n",
    "#     for col in cols_to_impute:\n",
    "#         if df[col].isna().sum() > 0:  # Cek apakah ada nilai NaN pada kolom\n",
    "#             non_missing_data = df[df[col].notna()]  # Data tanpa nilai NaN untuk training\n",
    "#             X_train = non_missing_data.drop(columns=[col] + drop_cols)  # Fitur training tanpa kolom target\n",
    "#             y_train = non_missing_data[col]  # Target untuk training\n",
    "            \n",
    "#             # Inisiasi Random Forest Regressor dan training\n",
    "#             rf_imputer = RandomForestRegressor(n_estimators=n_estimators, random_state=random_state)\n",
    "#             rf_imputer.fit(X_train, y_train)\n",
    "            \n",
    "#             # Melakukan prediksi untuk mengisi nilai NaN\n",
    "#             X_pred = df[df[col].isna()].drop(columns=[col] + drop_cols)\n",
    "#             df.loc[df[col].isna(), col] = rf_imputer.predict(X_pred)\n",
    "    \n",
    "#     return df\n",
    "\n",
    "\n",
    "# cols_to_impute_rf = ['AAI', 'CloudFraction','LST', 'NO2_trop', 'NO2_strat', 'NO2_total', 'TropopausePressure']\n",
    "# df = impute_missing_values(df, cols_to_impute_rf)\n",
    "# test = impute_missing_values(test, cols_to_impute_rf)\n",
    "\n",
    "# # Imputasi untuk kolom dengan missing data sedikit (Mean Imputation)\n",
    "# cols_to_impute_mean = ['GT_NO2']\n",
    "# mean_imputer = SimpleImputer(strategy='mean')\n",
    "# df[cols_to_impute_mean] = mean_imputer.fit_transform(df[cols_to_impute_mean])\n",
    "\n",
    "# # Time series imputation using Iterative Imputer (Multiple Imputation)\n",
    "# time_series_cols = ['Precipitation']\n",
    "# time_series_imputer = IterativeImputer(random_state=42)\n",
    "# df[time_series_cols] = time_series_imputer.fit_transform(df[time_series_cols])\n",
    "# test[time_series_cols] = time_series_imputer.fit_transform(test[time_series_cols])"
   ]
  },
  {
   "cell_type": "markdown",
   "metadata": {},
   "source": [
    "# Feature Engineering"
   ]
  },
  {
   "cell_type": "code",
   "execution_count": 9,
   "metadata": {},
   "outputs": [],
   "source": [
    "# df.to_csv('train_imputed_with_rf_regressor.csv', index=False)\n",
    "# test.to_csv('test_imputed_with_rf_regressor.csv', index=False)\n",
    "\n",
    "data = pd.read_csv('train_imputed_with_rf_regressor.csv')\n",
    "dtest = pd.read_csv('test_imputed_with_rf_regressor.csv')\n",
    "\n",
    "data.drop(['LAT','LON'],axis=1,inplace=True)\n",
    "dtest.drop(['LAT','LON'],axis=1,inplace=True)"
   ]
  },
  {
   "cell_type": "code",
   "execution_count": 10,
   "metadata": {},
   "outputs": [],
   "source": [
    "kmeans = KMeans(n_clusters=3)\n",
    "data['Kmeans'] = kmeans.fit_predict(data[['NO2_strat', 'NO2_total', 'NO2_trop']])\n",
    "dtest['Kmeans'] = kmeans.fit_predict(dtest[['NO2_strat', 'NO2_total', 'NO2_trop']])"
   ]
  },
  {
   "cell_type": "code",
   "execution_count": 11,
   "metadata": {},
   "outputs": [],
   "source": [
    "scaler = StandardScaler()\n",
    "data['TropopausePressure'] = scaler.fit_transform(data[['TropopausePressure']])\n",
    "dtest['TropopausePressure'] = scaler.fit_transform(dtest[['TropopausePressure']])"
   ]
  },
  {
   "cell_type": "code",
   "execution_count": 12,
   "metadata": {},
   "outputs": [],
   "source": [
    "from sklearn.preprocessing import PolynomialFeatures\n",
    "\n",
    "# Misalnya, data berisi kolom 'Precipitation', 'LST', 'AAI'\n",
    "poly = PolynomialFeatures(degree=2)\n",
    "\n",
    "# Menerapkan transformasi polinomial pada kolom-kolom yang ditentukan\n",
    "poly_features = poly.fit_transform(data[['Precipitation', 'LST', 'AAI']])\n",
    "poly_features_test = poly.fit_transform(dtest[['Precipitation', 'LST', 'AAI']])\n",
    "\n",
    "# Membuat DataFrame baru dengan nama kolom yang sesuai\n",
    "poly_feature_columns = poly.get_feature_names_out(['Precipitation', 'LST', 'AAI'])\n",
    "\n",
    "# Menggabungkan hasilnya dengan data asli (jika perlu)\n",
    "poly_data = pd.DataFrame(poly_features, columns=poly_feature_columns)\n",
    "poly_dtest = pd.DataFrame(poly_features_test, columns=poly_feature_columns)\n",
    "\n",
    "poly_data.drop(['1','Precipitation','LST','AAI',],axis=1,inplace=True)\n",
    "poly_dtest.drop(['1','Precipitation','LST','AAI',],axis=1,inplace=True)"
   ]
  },
  {
   "cell_type": "code",
   "execution_count": 13,
   "metadata": {},
   "outputs": [],
   "source": [
    "result = pd.concat([data, poly_data], axis=1)\n",
    "result_test = pd.concat([dtest, poly_dtest], axis=1)"
   ]
  },
  {
   "cell_type": "code",
   "execution_count": null,
   "metadata": {},
   "outputs": [],
   "source": [
    "result['GT_NO2'] = pd.to_numeric(result['GT_NO2'], errors='coerce')  # Pastikan target numerik\n"
   ]
  },
  {
   "cell_type": "markdown",
   "metadata": {},
   "source": [
    "# Model Creation"
   ]
  },
  {
   "cell_type": "code",
   "execution_count": 36,
   "metadata": {},
   "outputs": [],
   "source": [
    "from sklearn.model_selection import train_test_split\n",
    "from sklearn.metrics import mean_squared_error\n",
    "from sklearn.linear_model import LinearRegression\n",
    "from sklearn.tree import DecisionTreeRegressor\n",
    "from sklearn.ensemble import RandomForestRegressor, GradientBoostingRegressor\n",
    "import numpy as np"
   ]
  },
  {
   "cell_type": "code",
   "execution_count": 38,
   "metadata": {},
   "outputs": [
    {
     "name": "stdout",
     "output_type": "stream",
     "text": [
      "Training Linear Regression...\n",
      "Training Decision Tree...\n",
      "Training Random Forest...\n",
      "Training Gradient Boosting...\n",
      "\n",
      "Model Evaluation Results (RMSE):\n",
      "Linear Regression: 12.3161\n",
      "Decision Tree: 13.4085\n",
      "Random Forest: 9.4391\n",
      "Gradient Boosting: 11.0532\n"
     ]
    }
   ],
   "source": [
    "# Pisahkan data menjadi fitur dan target\n",
    "X = result.drop(columns=['GT_NO2'])\n",
    "y = result['GT_NO2']\n",
    "\n",
    "# Pisahkan data menjadi train dan validation\n",
    "X_train, X_val, y_train, y_val = train_test_split(X, y, test_size=0.2, random_state=42)\n",
    "\n",
    "# Inisialisasi model yang akan digunakan\n",
    "models = {\n",
    "    'Linear Regression': LinearRegression(),\n",
    "    'Decision Tree': DecisionTreeRegressor(random_state=42),\n",
    "    'Random Forest': RandomForestRegressor(n_estimators=100, random_state=42),\n",
    "    'Gradient Boosting': GradientBoostingRegressor(random_state=42),\n",
    "}\n",
    "\n",
    "# Menyimpan hasil evaluasi\n",
    "results = {}\n",
    "\n",
    "# Loop melalui setiap model\n",
    "for name, model in models.items():\n",
    "    print(f\"Training {name}...\")\n",
    "    model.fit(X_train, y_train)\n",
    "    y_pred = model.predict(X_val)\n",
    "    rmse = np.sqrt(mean_squared_error(y_val, y_pred))\n",
    "    results[name] = rmse\n",
    "\n",
    "# Tampilkan hasil\n",
    "print(\"\\nModel Evaluation Results (RMSE):\")\n",
    "for name, rmse in results.items():\n",
    "    print(f\"{name}: {rmse:.4f}\")"
   ]
  },
  {
   "cell_type": "code",
   "execution_count": null,
   "metadata": {},
   "outputs": [],
   "source": []
  }
 ],
 "metadata": {
  "kaggle": {
   "accelerator": "gpu",
   "dataSources": [
    {
     "datasetId": 5968895,
     "sourceId": 9749552,
     "sourceType": "datasetVersion"
    }
   ],
   "dockerImageVersionId": 30787,
   "isGpuEnabled": true,
   "isInternetEnabled": true,
   "language": "python",
   "sourceType": "notebook"
  },
  "kernelspec": {
   "display_name": "Python 3",
   "language": "python",
   "name": "python3"
  },
  "language_info": {
   "codemirror_mode": {
    "name": "ipython",
    "version": 3
   },
   "file_extension": ".py",
   "mimetype": "text/x-python",
   "name": "python",
   "nbconvert_exporter": "python",
   "pygments_lexer": "ipython3",
   "version": "3.12.2"
  }
 },
 "nbformat": 4,
 "nbformat_minor": 4
}
